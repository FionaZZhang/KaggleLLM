{
 "cells": [
  {
   "cell_type": "code",
   "execution_count": 1,
   "id": "cf3cd054",
   "metadata": {
    "_cell_guid": "b1076dfc-b9ad-4769-8c92-a6c4dae69d19",
    "_uuid": "8f2839f25d086af736a60e9eeb907d3b93b6e0e5",
    "execution": {
     "iopub.execute_input": "2024-03-27T04:12:25.786642Z",
     "iopub.status.busy": "2024-03-27T04:12:25.786125Z",
     "iopub.status.idle": "2024-03-27T04:12:26.860396Z",
     "shell.execute_reply": "2024-03-27T04:12:26.859038Z"
    },
    "papermill": {
     "duration": 1.08156,
     "end_time": "2024-03-27T04:12:26.863184",
     "exception": false,
     "start_time": "2024-03-27T04:12:25.781624",
     "status": "completed"
    },
    "tags": []
   },
   "outputs": [
    {
     "name": "stdout",
     "output_type": "stream",
     "text": [
      "/kaggle/input/llm-prompt-recovery/sample_submission.csv\n",
      "/kaggle/input/llm-prompt-recovery/train.csv\n",
      "/kaggle/input/llm-prompt-recovery/test.csv\n"
     ]
    }
   ],
   "source": [
    "# This Python 3 environment comes with many helpful analytics libraries installed\n",
    "# It is defined by the kaggle/python Docker image: https://github.com/kaggle/docker-python\n",
    "# For example, here's several helpful packages to load\n",
    "\n",
    "import numpy as np # linear algebra\n",
    "import pandas as pd # data processing, CSV file I/O (e.g. pd.read_csv)\n",
    "\n",
    "# Input data files are available in the read-only \"../input/\" directory\n",
    "# For example, running this (by clicking run or pressing Shift+Enter) will list all files under the input directory\n",
    "\n",
    "import os\n",
    "for dirname, _, filenames in os.walk('/kaggle/input'):\n",
    "    for filename in filenames:\n",
    "        print(os.path.join(dirname, filename))\n",
    "\n",
    "# You can write up to 20GB to the current directory (/kaggle/working/) that gets preserved as output when you create a version using \"Save & Run All\" \n",
    "# You can also write temporary files to /kaggle/temp/, but they won't be saved outside of the current session"
   ]
  },
  {
   "cell_type": "code",
   "execution_count": 2,
   "id": "05870a52",
   "metadata": {
    "execution": {
     "iopub.execute_input": "2024-03-27T04:12:26.869908Z",
     "iopub.status.busy": "2024-03-27T04:12:26.869335Z",
     "iopub.status.idle": "2024-03-27T04:12:26.878327Z",
     "shell.execute_reply": "2024-03-27T04:12:26.877078Z"
    },
    "papermill": {
     "duration": 0.014973,
     "end_time": "2024-03-27T04:12:26.880640",
     "exception": false,
     "start_time": "2024-03-27T04:12:26.865667",
     "status": "completed"
    },
    "tags": []
   },
   "outputs": [
    {
     "name": "stdout",
     "output_type": "stream",
     "text": [
      "CSV file created successfully!\n"
     ]
    }
   ],
   "source": [
    "import csv\n",
    "\n",
    "# Data to be written to the CSV file\n",
    "data = [\n",
    "    [\"id\", \"rewrite_prompt\"],\n",
    "    [\"000aaa\", \"Rewrite this essay but do it using the writing style of Dr. Seuss\"],\n",
    "    [\"111bbb\", \"Rewrite this essay but do it using the writing style of William Shakespeare\"],\n",
    "    [\"222ccc\", \"Rewrite this essay but do it using the writing style of Tupac Shakur\"]\n",
    "]\n",
    "\n",
    "# Name of the CSV file\n",
    "filename = \"submission.csv\"\n",
    "\n",
    "# Writing to the CSV file\n",
    "with open(filename, 'w', newline='') as csvfile:\n",
    "    csvwriter = csv.writer(csvfile)\n",
    "    csvwriter.writerows(data)\n",
    "\n",
    "print(\"CSV file created successfully!\")\n"
   ]
  }
 ],
 "metadata": {
  "kaggle": {
   "accelerator": "none",
   "dataSources": [
    {
     "databundleVersionId": 7806901,
     "sourceId": 67121,
     "sourceType": "competition"
    }
   ],
   "dockerImageVersionId": 30673,
   "isGpuEnabled": false,
   "isInternetEnabled": false,
   "language": "python",
   "sourceType": "notebook"
  },
  "kernelspec": {
   "display_name": "Python 3",
   "language": "python",
   "name": "python3"
  },
  "language_info": {
   "codemirror_mode": {
    "name": "ipython",
    "version": 3
   },
   "file_extension": ".py",
   "mimetype": "text/x-python",
   "name": "python",
   "nbconvert_exporter": "python",
   "pygments_lexer": "ipython3",
   "version": "3.10.13"
  },
  "papermill": {
   "default_parameters": {},
   "duration": 4.857342,
   "end_time": "2024-03-27T04:12:27.403936",
   "environment_variables": {},
   "exception": null,
   "input_path": "__notebook__.ipynb",
   "output_path": "__notebook__.ipynb",
   "parameters": {},
   "start_time": "2024-03-27T04:12:22.546594",
   "version": "2.5.0"
  }
 },
 "nbformat": 4,
 "nbformat_minor": 5
}
