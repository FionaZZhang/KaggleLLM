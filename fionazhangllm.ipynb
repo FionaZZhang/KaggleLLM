{
 "cells": [
  {
   "cell_type": "code",
   "execution_count": 1,
   "id": "60ca05d8",
   "metadata": {
    "_cell_guid": "b1076dfc-b9ad-4769-8c92-a6c4dae69d19",
    "_uuid": "8f2839f25d086af736a60e9eeb907d3b93b6e0e5",
    "execution": {
     "iopub.execute_input": "2024-03-31T12:18:22.823200Z",
     "iopub.status.busy": "2024-03-31T12:18:22.821713Z",
     "iopub.status.idle": "2024-03-31T12:18:23.843647Z",
     "shell.execute_reply": "2024-03-31T12:18:23.842400Z"
    },
    "papermill": {
     "duration": 1.029123,
     "end_time": "2024-03-31T12:18:23.846382",
     "exception": false,
     "start_time": "2024-03-31T12:18:22.817259",
     "status": "completed"
    },
    "tags": []
   },
   "outputs": [
    {
     "name": "stdout",
     "output_type": "stream",
     "text": [
      "/kaggle/input/llm-prompt-recovery/sample_submission.csv\n",
      "/kaggle/input/llm-prompt-recovery/train.csv\n",
      "/kaggle/input/llm-prompt-recovery/test.csv\n"
     ]
    }
   ],
   "source": [
    "# This Python 3 environment comes with many helpful analytics libraries installed\n",
    "# It is defined by the kaggle/python Docker image: https://github.com/kaggle/docker-python\n",
    "# For example, here's several helpful packages to load\n",
    "\n",
    "import numpy as np # linear algebra\n",
    "import pandas as pd # data processing, CSV file I/O (e.g. pd.read_csv)\n",
    "\n",
    "# Input data files are available in the read-only \"../input/\" directory\n",
    "# For example, running this (by clicking run or pressing Shift+Enter) will list all files under the input directory\n",
    "\n",
    "import os\n",
    "for dirname, _, filenames in os.walk('/kaggle/input'):\n",
    "    for filename in filenames:\n",
    "        print(os.path.join(dirname, filename))\n",
    "\n",
    "        \n",
    "        \n",
    "# You can write up to 20GB to the current directory (/kaggle/working/) that gets preserved as output when you create a version using \"Save & Run All\" \n",
    "# You can also write temporary files to /kaggle/temp/, but they won't be saved outside of the current session"
   ]
  },
  {
   "cell_type": "code",
   "execution_count": 2,
   "id": "ae617f04",
   "metadata": {
    "execution": {
     "iopub.execute_input": "2024-03-31T12:18:23.853215Z",
     "iopub.status.busy": "2024-03-31T12:18:23.852618Z",
     "iopub.status.idle": "2024-03-31T12:18:23.879314Z",
     "shell.execute_reply": "2024-03-31T12:18:23.877932Z"
    },
    "papermill": {
     "duration": 0.033121,
     "end_time": "2024-03-31T12:18:23.882052",
     "exception": false,
     "start_time": "2024-03-31T12:18:23.848931",
     "status": "completed"
    },
    "tags": []
   },
   "outputs": [
    {
     "name": "stdout",
     "output_type": "stream",
     "text": [
      "submission.csv file created successfully!\n"
     ]
    }
   ],
   "source": [
    "import csv\n",
    "\n",
    "train = pd.read_csv(\"/kaggle/input/llm-prompt-recovery/train.csv\")\n",
    "test = pd.read_csv(\"/kaggle/input/llm-prompt-recovery/test.csv\")\n",
    "\n",
    "\n",
    "test_data = []\n",
    "with open('/kaggle/input/llm-prompt-recovery/test.csv', 'r', newline='') as testfile:\n",
    "    reader = csv.reader(testfile)\n",
    "    for row in reader:\n",
    "        test_data.append(row)\n",
    "\n",
    "# Prepare data to be written to the submission.csv file\n",
    "data = [[\"id\", \"rewrite_prompt\"]]\n",
    "for row in test_data[1:]:  # Skip the header row\n",
    "    data.append([row[0], f'Convert this into a: '])\n",
    "\n",
    "# Name of the CSV file\n",
    "filename = \"submission.csv\"\n",
    "\n",
    "# Writing to the submission.csv file\n",
    "with open(filename, 'w', newline='') as csvfile:\n",
    "    csvwriter = csv.writer(csvfile)\n",
    "    csvwriter.writerows(data)\n",
    "\n",
    "print(\"submission.csv file created successfully!\")\n"
   ]
  }
 ],
 "metadata": {
  "kaggle": {
   "accelerator": "none",
   "dataSources": [
    {
     "databundleVersionId": 7806901,
     "sourceId": 67121,
     "sourceType": "competition"
    }
   ],
   "dockerImageVersionId": 30673,
   "isGpuEnabled": false,
   "isInternetEnabled": false,
   "language": "python",
   "sourceType": "notebook"
  },
  "kernelspec": {
   "display_name": "Python 3",
   "language": "python",
   "name": "python3"
  },
  "language_info": {
   "codemirror_mode": {
    "name": "ipython",
    "version": 3
   },
   "file_extension": ".py",
   "mimetype": "text/x-python",
   "name": "python",
   "nbconvert_exporter": "python",
   "pygments_lexer": "ipython3",
   "version": "3.10.13"
  },
  "papermill": {
   "default_parameters": {},
   "duration": 4.775881,
   "end_time": "2024-03-31T12:18:24.405289",
   "environment_variables": {},
   "exception": null,
   "input_path": "__notebook__.ipynb",
   "output_path": "__notebook__.ipynb",
   "parameters": {},
   "start_time": "2024-03-31T12:18:19.629408",
   "version": "2.5.0"
  }
 },
 "nbformat": 4,
 "nbformat_minor": 5
}
